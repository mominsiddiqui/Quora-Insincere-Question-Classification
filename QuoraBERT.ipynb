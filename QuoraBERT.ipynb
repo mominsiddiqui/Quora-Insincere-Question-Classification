{
  "nbformat": 4,
  "nbformat_minor": 0,
  "metadata": {
    "colab": {
      "name": "QuoraBERT.ipynb",
      "provenance": [],
      "authorship_tag": "ABX9TyNhqjvwYjs+pMXX7qfcmz5D",
      "include_colab_link": true
    },
    "kernelspec": {
      "name": "python3",
      "display_name": "Python 3"
    },
    "language_info": {
      "name": "python"
    },
    "accelerator": "GPU"
  },
  "cells": [
    {
      "cell_type": "markdown",
      "metadata": {
        "id": "view-in-github",
        "colab_type": "text"
      },
      "source": [
        "<a href=\"https://colab.research.google.com/github/mominsiddiqui/ML-Projects/blob/main/QuoraBERT.ipynb\" target=\"_parent\"><img src=\"https://colab.research.google.com/assets/colab-badge.svg\" alt=\"Open In Colab\"/></a>"
      ]
    },
    {
      "cell_type": "markdown",
      "metadata": {
        "id": "7-rSWjaG0uiC"
      },
      "source": [
        "<h1 align=center> Quora Insincere Question Classification</h1>"
      ]
    },
    {
      "cell_type": "code",
      "metadata": {
        "colab": {
          "base_uri": "https://localhost:8080/"
        },
        "id": "J_tO9W6OYIuO",
        "outputId": "10e85e5b-4c65-4686-b211-9eddbda3ce15"
      },
      "source": [
        "!nvidia-smi"
      ],
      "execution_count": null,
      "outputs": [
        {
          "output_type": "stream",
          "text": [
            "Wed Jun 30 05:25:32 2021       \n",
            "+-----------------------------------------------------------------------------+\n",
            "| NVIDIA-SMI 465.27       Driver Version: 460.32.03    CUDA Version: 11.2     |\n",
            "|-------------------------------+----------------------+----------------------+\n",
            "| GPU  Name        Persistence-M| Bus-Id        Disp.A | Volatile Uncorr. ECC |\n",
            "| Fan  Temp  Perf  Pwr:Usage/Cap|         Memory-Usage | GPU-Util  Compute M. |\n",
            "|                               |                      |               MIG M. |\n",
            "|===============================+======================+======================|\n",
            "|   0  Tesla T4            Off  | 00000000:00:04.0 Off |                    0 |\n",
            "| N/A   64C    P8    10W /  70W |      0MiB / 15109MiB |      0%      Default |\n",
            "|                               |                      |                  N/A |\n",
            "+-------------------------------+----------------------+----------------------+\n",
            "                                                                               \n",
            "+-----------------------------------------------------------------------------+\n",
            "| Processes:                                                                  |\n",
            "|  GPU   GI   CI        PID   Type   Process name                  GPU Memory |\n",
            "|        ID   ID                                                   Usage      |\n",
            "|=============================================================================|\n",
            "|  No running processes found                                                 |\n",
            "+-----------------------------------------------------------------------------+\n"
          ],
          "name": "stdout"
        }
      ]
    },
    {
      "cell_type": "code",
      "metadata": {
        "colab": {
          "base_uri": "https://localhost:8080/"
        },
        "id": "cbSn6Y5xYNyD",
        "outputId": "853de559-d141-4b63-fbc3-d7d831e9e2a2"
      },
      "source": [
        "import tensorflow as tf\n",
        "print(tf.version.VERSION)"
      ],
      "execution_count": null,
      "outputs": [
        {
          "output_type": "stream",
          "text": [
            "2.5.0\n"
          ],
          "name": "stdout"
        }
      ]
    },
    {
      "cell_type": "code",
      "metadata": {
        "colab": {
          "base_uri": "https://localhost:8080/"
        },
        "id": "CSAfNWdvYUd4",
        "outputId": "f7242ad6-a64c-418d-ca52-b9affe4c4e3a"
      },
      "source": [
        "!git clone --depth 1 -b v2.3.0 https://github.com/tensorflow/models.git"
      ],
      "execution_count": null,
      "outputs": [
        {
          "output_type": "stream",
          "text": [
            "Cloning into 'models'...\n",
            "remote: Enumerating objects: 2650, done.\u001b[K\n",
            "remote: Counting objects: 100% (2650/2650), done.\u001b[K\n",
            "remote: Compressing objects: 100% (2311/2311), done.\u001b[K\n",
            "remote: Total 2650 (delta 506), reused 1386 (delta 306), pack-reused 0\u001b[K\n",
            "Receiving objects: 100% (2650/2650), 34.02 MiB | 30.18 MiB/s, done.\n",
            "Resolving deltas: 100% (506/506), done.\n",
            "Note: checking out '400d68abbccda2f0f6609e3a924467718b144233'.\n",
            "\n",
            "You are in 'detached HEAD' state. You can look around, make experimental\n",
            "changes and commit them, and you can discard any commits you make in this\n",
            "state without impacting any branches by performing another checkout.\n",
            "\n",
            "If you want to create a new branch to retain commits you create, you may\n",
            "do so (now or later) by using -b with the checkout command again. Example:\n",
            "\n",
            "  git checkout -b <new-branch-name>\n",
            "\n"
          ],
          "name": "stdout"
        }
      ]
    },
    {
      "cell_type": "code",
      "metadata": {
        "id": "0OoKuzt5YYLH"
      },
      "source": [
        "# install requirements to use tensorflow/models repository\n",
        "!pip install -Uqr models/official/requirements.txt"
      ],
      "execution_count": null,
      "outputs": []
    },
    {
      "cell_type": "code",
      "metadata": {
        "id": "JQ9lqDHFYoq9"
      },
      "source": [
        "import numpy as np\n",
        "import tensorflow as tf\n",
        "import tensorflow_hub as hub\n",
        "import sys\n",
        "sys.path.append('models')\n",
        "from official.nlp.data import classifier_data_lib\n",
        "from official.nlp.bert import tokenization\n",
        "from official.nlp import optimization"
      ],
      "execution_count": null,
      "outputs": []
    },
    {
      "cell_type": "code",
      "metadata": {
        "colab": {
          "base_uri": "https://localhost:8080/"
        },
        "id": "CJ8xU8clYvZ3",
        "outputId": "fcd74d00-45a9-437e-c9a9-034db84b2b0c"
      },
      "source": [
        "print(\"TF Version: \", tf.__version__)\n",
        "print(\"Eager mode: \", tf.executing_eagerly())\n",
        "print(\"Hub version: \", hub.__version__)\n",
        "print(\"GPU is\", \"available\" if tf.config.experimental.list_physical_devices(\"GPU\") else \"NOT AVAILABLE\")"
      ],
      "execution_count": null,
      "outputs": [
        {
          "output_type": "stream",
          "text": [
            "TF Version:  2.5.0\n",
            "Eager mode:  True\n",
            "Hub version:  0.12.0\n",
            "GPU is available\n"
          ],
          "name": "stdout"
        }
      ]
    },
    {
      "cell_type": "markdown",
      "metadata": {
        "id": "0bpfT5Yc2Vbm"
      },
      "source": [
        "## Downloading the dataset"
      ]
    },
    {
      "cell_type": "code",
      "metadata": {
        "colab": {
          "base_uri": "https://localhost:8080/"
        },
        "id": "FB0qUJLBYxgl",
        "outputId": "19d0ac91-a253-4533-e73f-f25800ec1a39"
      },
      "source": [
        "import numpy as np\n",
        "import pandas as pd\n",
        "\n",
        "df = pd.read_csv('https://archive.org/download/fine-tune-bert-tensorflow-train.csv/train.csv.zip',\n",
        "                 compression='zip', low_memory=False)\n",
        "df.shape"
      ],
      "execution_count": null,
      "outputs": [
        {
          "output_type": "execute_result",
          "data": {
            "text/plain": [
              "(1306122, 3)"
            ]
          },
          "metadata": {
            "tags": []
          },
          "execution_count": 3
        }
      ]
    },
    {
      "cell_type": "code",
      "metadata": {
        "colab": {
          "base_uri": "https://localhost:8080/",
          "height": 669
        },
        "id": "WC6Lb7THY3Ru",
        "outputId": "80f99f1a-ddd6-4631-ca73-5edb78dc16bd"
      },
      "source": [
        "df.tail(20)"
      ],
      "execution_count": null,
      "outputs": [
        {
          "output_type": "execute_result",
          "data": {
            "text/html": [
              "<div>\n",
              "<style scoped>\n",
              "    .dataframe tbody tr th:only-of-type {\n",
              "        vertical-align: middle;\n",
              "    }\n",
              "\n",
              "    .dataframe tbody tr th {\n",
              "        vertical-align: top;\n",
              "    }\n",
              "\n",
              "    .dataframe thead th {\n",
              "        text-align: right;\n",
              "    }\n",
              "</style>\n",
              "<table border=\"1\" class=\"dataframe\">\n",
              "  <thead>\n",
              "    <tr style=\"text-align: right;\">\n",
              "      <th></th>\n",
              "      <th>qid</th>\n",
              "      <th>question_text</th>\n",
              "      <th>target</th>\n",
              "    </tr>\n",
              "  </thead>\n",
              "  <tbody>\n",
              "    <tr>\n",
              "      <th>1306102</th>\n",
              "      <td>ffff3778790af9baae76</td>\n",
              "      <td>What steps can I take to live a normal life if...</td>\n",
              "      <td>0</td>\n",
              "    </tr>\n",
              "    <tr>\n",
              "      <th>1306103</th>\n",
              "      <td>ffff3f0a2449ffe4b9ff</td>\n",
              "      <td>Isn't Trump right after all? Why should the US...</td>\n",
              "      <td>1</td>\n",
              "    </tr>\n",
              "    <tr>\n",
              "      <th>1306104</th>\n",
              "      <td>ffff41393389d4206066</td>\n",
              "      <td>Is 33 too late for a career in creative advert...</td>\n",
              "      <td>0</td>\n",
              "    </tr>\n",
              "    <tr>\n",
              "      <th>1306105</th>\n",
              "      <td>ffff42493fc203cd9532</td>\n",
              "      <td>What is difference between the filteration wor...</td>\n",
              "      <td>0</td>\n",
              "    </tr>\n",
              "    <tr>\n",
              "      <th>1306106</th>\n",
              "      <td>ffff48dd47bee89fff79</td>\n",
              "      <td>If the universe \"popped\" into existence from n...</td>\n",
              "      <td>0</td>\n",
              "    </tr>\n",
              "    <tr>\n",
              "      <th>1306107</th>\n",
              "      <td>ffff5fd051a032f32a39</td>\n",
              "      <td>How does a shared service technology team meas...</td>\n",
              "      <td>0</td>\n",
              "    </tr>\n",
              "    <tr>\n",
              "      <th>1306108</th>\n",
              "      <td>ffff6d528040d3888b93</td>\n",
              "      <td>How is DSATM civil engineering?</td>\n",
              "      <td>0</td>\n",
              "    </tr>\n",
              "    <tr>\n",
              "      <th>1306109</th>\n",
              "      <td>ffff8776cd30cdc8d7f8</td>\n",
              "      <td>Do you know any problem that depends solely on...</td>\n",
              "      <td>0</td>\n",
              "    </tr>\n",
              "    <tr>\n",
              "      <th>1306110</th>\n",
              "      <td>ffff94d427ade3716cd1</td>\n",
              "      <td>What are some comic ideas for you Tube videos ...</td>\n",
              "      <td>0</td>\n",
              "    </tr>\n",
              "    <tr>\n",
              "      <th>1306111</th>\n",
              "      <td>ffffa382c58368071dc9</td>\n",
              "      <td>If you had $10 million of Bitcoin, could you s...</td>\n",
              "      <td>0</td>\n",
              "    </tr>\n",
              "    <tr>\n",
              "      <th>1306112</th>\n",
              "      <td>ffffa5b0fa76431c063f</td>\n",
              "      <td>Are you ashamed of being an Indian?</td>\n",
              "      <td>1</td>\n",
              "    </tr>\n",
              "    <tr>\n",
              "      <th>1306113</th>\n",
              "      <td>ffffae5dbda3dc9e9771</td>\n",
              "      <td>What are the methods to determine fossil ages ...</td>\n",
              "      <td>0</td>\n",
              "    </tr>\n",
              "    <tr>\n",
              "      <th>1306114</th>\n",
              "      <td>ffffba7c4888798571c1</td>\n",
              "      <td>What is your story today?</td>\n",
              "      <td>0</td>\n",
              "    </tr>\n",
              "    <tr>\n",
              "      <th>1306115</th>\n",
              "      <td>ffffc0c7158658a06fd9</td>\n",
              "      <td>How do I consume 150 gms protein daily both ve...</td>\n",
              "      <td>0</td>\n",
              "    </tr>\n",
              "    <tr>\n",
              "      <th>1306116</th>\n",
              "      <td>ffffc404da586ac5a08f</td>\n",
              "      <td>What are the good career options for a msc che...</td>\n",
              "      <td>0</td>\n",
              "    </tr>\n",
              "    <tr>\n",
              "      <th>1306117</th>\n",
              "      <td>ffffcc4e2331aaf1e41e</td>\n",
              "      <td>What other technical skills do you need as a c...</td>\n",
              "      <td>0</td>\n",
              "    </tr>\n",
              "    <tr>\n",
              "      <th>1306118</th>\n",
              "      <td>ffffd431801e5a2f4861</td>\n",
              "      <td>Does MS in ECE have good job prospects in USA ...</td>\n",
              "      <td>0</td>\n",
              "    </tr>\n",
              "    <tr>\n",
              "      <th>1306119</th>\n",
              "      <td>ffffd48fb36b63db010c</td>\n",
              "      <td>Is foam insulation toxic?</td>\n",
              "      <td>0</td>\n",
              "    </tr>\n",
              "    <tr>\n",
              "      <th>1306120</th>\n",
              "      <td>ffffec519fa37cf60c78</td>\n",
              "      <td>How can one start a research project based on ...</td>\n",
              "      <td>0</td>\n",
              "    </tr>\n",
              "    <tr>\n",
              "      <th>1306121</th>\n",
              "      <td>ffffed09fedb5088744a</td>\n",
              "      <td>Who wins in a battle between a Wolverine and a...</td>\n",
              "      <td>0</td>\n",
              "    </tr>\n",
              "  </tbody>\n",
              "</table>\n",
              "</div>"
            ],
            "text/plain": [
              "                          qid  ... target\n",
              "1306102  ffff3778790af9baae76  ...      0\n",
              "1306103  ffff3f0a2449ffe4b9ff  ...      1\n",
              "1306104  ffff41393389d4206066  ...      0\n",
              "1306105  ffff42493fc203cd9532  ...      0\n",
              "1306106  ffff48dd47bee89fff79  ...      0\n",
              "1306107  ffff5fd051a032f32a39  ...      0\n",
              "1306108  ffff6d528040d3888b93  ...      0\n",
              "1306109  ffff8776cd30cdc8d7f8  ...      0\n",
              "1306110  ffff94d427ade3716cd1  ...      0\n",
              "1306111  ffffa382c58368071dc9  ...      0\n",
              "1306112  ffffa5b0fa76431c063f  ...      1\n",
              "1306113  ffffae5dbda3dc9e9771  ...      0\n",
              "1306114  ffffba7c4888798571c1  ...      0\n",
              "1306115  ffffc0c7158658a06fd9  ...      0\n",
              "1306116  ffffc404da586ac5a08f  ...      0\n",
              "1306117  ffffcc4e2331aaf1e41e  ...      0\n",
              "1306118  ffffd431801e5a2f4861  ...      0\n",
              "1306119  ffffd48fb36b63db010c  ...      0\n",
              "1306120  ffffec519fa37cf60c78  ...      0\n",
              "1306121  ffffed09fedb5088744a  ...      0\n",
              "\n",
              "[20 rows x 3 columns]"
            ]
          },
          "metadata": {
            "tags": []
          },
          "execution_count": 4
        }
      ]
    },
    {
      "cell_type": "code",
      "metadata": {
        "colab": {
          "base_uri": "https://localhost:8080/",
          "height": 281
        },
        "id": "nqIDDXd3Y8mg",
        "outputId": "874dbd62-4403-453f-b6d9-b56395e6571a"
      },
      "source": [
        "df.target.plot(kind='hist', title='Target distribution');"
      ],
      "execution_count": null,
      "outputs": [
        {
          "output_type": "display_data",
          "data": {
            "image/png": "[encoded data removed]",
            "text/plain": [
              "<Figure size 432x288 with 1 Axes>"
            ]
          },
          "metadata": {
            "tags": [],
            "needs_background": "light"
          }
        }
      ]
    },
    {
      "cell_type": "markdown",
      "metadata": {
        "id": "EIKFEcHo2lwK"
      },
      "source": [
        "## Create tf.data.Datasets for Training and Evaluation"
      ]
    },
    {
      "cell_type": "code",
      "metadata": {
        "colab": {
          "base_uri": "https://localhost:8080/"
        },
        "id": "sgcKGdNLY-Z_",
        "outputId": "f6627ee4-0a64-4e0e-aef6-5a37d045ea87"
      },
      "source": [
        "from sklearn.model_selection import train_test_split\n",
        "\n",
        "train_df, remaining = train_test_split(df, random_state=42, train_size=0.0075, stratify=df.target.values)\n",
        "valid_df, _ = train_test_split(remaining, random_state=42, train_size=0.00075, stratify=remaining.target.values)\n",
        "train_df.shape, valid_df.shape"
      ],
      "execution_count": null,
      "outputs": [
        {
          "output_type": "execute_result",
          "data": {
            "text/plain": [
              "((9795, 3), (972, 3))"
            ]
          },
          "metadata": {
            "tags": []
          },
          "execution_count": 8
        }
      ]
    },
    {
      "cell_type": "code",
      "metadata": {
        "colab": {
          "base_uri": "https://localhost:8080/"
        },
        "id": "_03WZubZZFSf",
        "outputId": "0022fd52-4d1a-4368-903d-68b3bc45861c"
      },
      "source": [
        "with tf.device('/cpu:0'):\n",
        "  train_data = tf.data.Dataset.from_tensor_slices((train_df.question_text.values, train_df.target.values))\n",
        "  valid_data = tf.data.Dataset.from_tensor_slices((valid_df.question_text.values, valid_df.target.values))\n",
        "\n",
        "  for text, label in train_data.take(1):\n",
        "    print(text)\n",
        "    print(label)"
      ],
      "execution_count": null,
      "outputs": [
        {
          "output_type": "stream",
          "text": [
            "tf.Tensor(b'Why are unhealthy relationships so desirable?', shape=(), dtype=string)\n",
            "tf.Tensor(0, shape=(), dtype=int64)\n"
          ],
          "name": "stdout"
        }
      ]
    },
    {
      "cell_type": "markdown",
      "metadata": {
        "id": "kQkFfKY13g2c"
      },
      "source": [
        "## Download a Pre-trained BERT Model from TensorFlow Hub"
      ]
    },
    {
      "cell_type": "code",
      "metadata": {
        "id": "pXHQaU4vZH-J"
      },
      "source": [
        "label_list = [0, 1]\n",
        "max_seq_length = 128 \n",
        "train_batch_size = 32\n",
        "\n",
        "# Get BERT layer and tokenizer:\n",
        "bert_layer = hub.KerasLayer(\"https://tfhub.dev/tensorflow/bert_en_uncased_L-12_H-768_A-12/2\",\n",
        "                            trainable=True)\n",
        "vocab_file = bert_layer.resolved_object.vocab_file.asset_path.numpy()\n",
        "do_lower_case = bert_layer.resolved_object.do_lower_case.numpy()\n",
        "tokenizer = tokenization.FullTokenizer(vocab_file, do_lower_case)"
      ],
      "execution_count": null,
      "outputs": []
    },
    {
      "cell_type": "code",
      "metadata": {
        "colab": {
          "base_uri": "https://localhost:8080/"
        },
        "id": "5WH9L4waZLKf",
        "outputId": "01d4813d-79df-4a96-8f4f-5f9ed94e337d"
      },
      "source": [
        "tokenizer.wordpiece_tokenizer.tokenize('hi, how are you doing?')"
      ],
      "execution_count": null,
      "outputs": [
        {
          "output_type": "execute_result",
          "data": {
            "text/plain": [
              "['hi', '##,', 'how', 'are', 'you', 'doing', '##?']"
            ]
          },
          "metadata": {
            "tags": []
          },
          "execution_count": 11
        }
      ]
    },
    {
      "cell_type": "code",
      "metadata": {
        "colab": {
          "base_uri": "https://localhost:8080/"
        },
        "id": "YYXY9jYRZNlO",
        "outputId": "0db642f2-4227-47b3-e8aa-218c040f3331"
      },
      "source": [
        "tokenizer.convert_tokens_to_ids(tokenizer.wordpiece_tokenizer.tokenize('hi, how are you doing?'))"
      ],
      "execution_count": null,
      "outputs": [
        {
          "output_type": "execute_result",
          "data": {
            "text/plain": [
              "[7632, 29623, 2129, 2024, 2017, 2725, 29632]"
            ]
          },
          "metadata": {
            "tags": []
          },
          "execution_count": 12
        }
      ]
    },
    {
      "cell_type": "markdown",
      "metadata": {
        "id": "sdO2XarF-rO4"
      },
      "source": [
        "## Tokenize and Preprocess Text for BERT"
      ]
    },
    {
      "cell_type": "markdown",
      "metadata": {
        "id": "EFlgUXn6-ig6"
      },
      "source": [
        "![ BERT_TOKENIZER.png](data:image/png;base64,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)"
      ]
    },
    {
      "cell_type": "code",
      "metadata": {
        "id": "rnST9QKbZPlL"
      },
      "source": [
        "# This provides a function to convert row to input features and label\n",
        "\n",
        "def to_feature(text, label, label_list=label_list, max_seq_length=max_seq_length, tokenizer=tokenizer):\n",
        "  example = classifier_data_lib.InputExample(guid = None,\n",
        "                                            text_a = text.numpy(), \n",
        "                                            text_b = None, \n",
        "                                            label = label.numpy())\n",
        "  feature = classifier_data_lib.convert_single_example(0, example, label_list,\n",
        "                                    max_seq_length, tokenizer)\n",
        "  \n",
        "  return (feature.input_ids, feature.input_mask, feature.segment_ids, feature.label_id)"
      ],
      "execution_count": null,
      "outputs": []
    },
    {
      "cell_type": "markdown",
      "metadata": {
        "id": "f8o2H86D-17w"
      },
      "source": [
        "## Wrap a Python Function into a TensorFlow op for Eagar Execution"
      ]
    },
    {
      "cell_type": "code",
      "metadata": {
        "id": "XirBlREwZSan"
      },
      "source": [
        "        'input_mask': input_mask,\n",
        "def to_feature_map(text, label):\n",
        "  input_ids, input_mask, segment_ids, label_id = tf.py_function(to_feature, inp=[text, label], \n",
        "                                Tout=[tf.int32, tf.int32, tf.int32, tf.int32])\n",
        "\n",
        "  # py_func doesn't set the shape of the returned tensors.\n",
        "  input_ids.set_shape([max_seq_length])\n",
        "  input_mask.set_shape([max_seq_length])\n",
        "  segment_ids.set_shape([max_seq_length])\n",
        "  label_id.set_shape([])\n",
        "\n",
        "  x = {\n",
        "        'input_word_ids': input_ids,\n",
        "        'input_type_ids': segment_ids\n",
        "    }\n",
        "  return (x, label_id)"
      ],
      "execution_count": null,
      "outputs": []
    },
    {
      "cell_type": "markdown",
      "metadata": {
        "id": "-jqJoDRd-61N"
      },
      "source": [
        "## Create a TensorFlow Input Pipeline with tf.data"
      ]
    },
    {
      "cell_type": "code",
      "metadata": {
        "id": "b05p_BDjZUtV"
      },
      "source": [
        "with tf.device('/cpu:0'):\n",
        "  # train\n",
        "  train_data = (train_data.map(to_feature_map,\n",
        "                              num_parallel_calls=tf.data.experimental.AUTOTUNE)\n",
        "                          .shuffle(1000)\n",
        "                          .batch(32, drop_remainder=True)\n",
        "                          .prefetch(tf.data.experimental.AUTOTUNE))\n",
        "\n",
        "  # valid\n",
        "  valid_data = (valid_data.map(to_feature_map,\n",
        "                            num_parallel_calls=tf.data.experimental.AUTOTUNE)\n",
        "                          .batch(32, drop_remainder=True)\n",
        "                          .prefetch(tf.data.experimental.AUTOTUNE)) "
      ],
      "execution_count": null,
      "outputs": []
    },
    {
      "cell_type": "code",
      "metadata": {
        "colab": {
          "base_uri": "https://localhost:8080/"
        },
        "id": "7ZVDg4v2ZXdU",
        "outputId": "71cffd66-82a9-41c3-b74d-f89034be3e84"
      },
      "source": [
        "#data spec\n",
        "train_data.element_spec"
      ],
      "execution_count": null,
      "outputs": [
        {
          "output_type": "execute_result",
          "data": {
            "text/plain": [
              "({'input_mask': TensorSpec(shape=(32, 128), dtype=tf.int32, name=None),\n",
              "  'input_type_ids': TensorSpec(shape=(32, 128), dtype=tf.int32, name=None),\n",
              "  'input_word_ids': TensorSpec(shape=(32, 128), dtype=tf.int32, name=None)},\n",
              " TensorSpec(shape=(32,), dtype=tf.int32, name=None))"
            ]
          },
          "metadata": {
            "tags": []
          },
          "execution_count": 16
        }
      ]
    },
    {
      "cell_type": "code",
      "metadata": {
        "colab": {
          "base_uri": "https://localhost:8080/"
        },
        "id": "zwp6hsudZdPW",
        "outputId": "65086327-6164-47fe-e3f8-18beb1ada96b"
      },
      "source": [
        "#data spec\n",
        "valid_data.element_spec"
      ],
      "execution_count": null,
      "outputs": [
        {
          "output_type": "execute_result",
          "data": {
            "text/plain": [
              "({'input_mask': TensorSpec(shape=(32, 128), dtype=tf.int32, name=None),\n",
              "  'input_type_ids': TensorSpec(shape=(32, 128), dtype=tf.int32, name=None),\n",
              "  'input_word_ids': TensorSpec(shape=(32, 128), dtype=tf.int32, name=None)},\n",
              " TensorSpec(shape=(32,), dtype=tf.int32, name=None))"
            ]
          },
          "metadata": {
            "tags": []
          },
          "execution_count": 17
        }
      ]
    },
    {
      "cell_type": "markdown",
      "metadata": {
        "id": "Mpr_FPnFCiz8"
      },
      "source": [
        "## Add a Classfication Head to the BERT Layer"
      ]
    },
    {
      "cell_type": "markdown",
      "metadata": {
        "id": "PClffMjqCuFw"
      },
      "source": [
        "![BERT CLASSIFCATION.png](data:image/png;base64,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)"
      ]
    },
    {
      "cell_type": "code",
      "metadata": {
        "id": "hOEt2WpPZhLZ"
      },
      "source": [
        "def create_model():\n",
        "  input_word_ids = tf.keras.layers.Input(shape=(max_seq_length,), dtype=tf.int32,\n",
        "                                         name=\"input_word_ids\")\n",
        "  input_mask = tf.keras.layers.Input(shape=(max_seq_length,), dtype=tf.int32,\n",
        "                                     name=\"input_mask\")\n",
        "  input_type_ids = tf.keras.layers.Input(shape=(max_seq_length,), dtype=tf.int32,\n",
        "                                         name=\"input_type_ids\")\n",
        "  \n",
        "  pooled_output, sequence_output = bert_layer([input_word_ids, input_mask, input_type_ids])\n",
        "\n",
        "  drop = tf.keras.layers.Dropout(0.4)(pooled_output)\n",
        "  output = tf.keras.layers.Dense(1, activation=\"sigmoid\", name=\"output\")(drop)\n",
        "\n",
        "  model = tf.keras.Model(\n",
        "      inputs={\n",
        "          'input_word_ids': input_word_ids,\n",
        "          'input_mask': input_mask,\n",
        "          'input_type_ids': input_type_ids\n",
        "      },\n",
        "      outputs=output\n",
        "  )\n",
        "\n",
        "  return model"
      ],
      "execution_count": null,
      "outputs": []
    },
    {
      "cell_type": "markdown",
      "metadata": {
        "id": "99bPUm-3C4Ga"
      },
      "source": [
        "## Fine-Tune BERT For Text Classification"
      ]
    },
    {
      "cell_type": "code",
      "metadata": {
        "colab": {
          "base_uri": "https://localhost:8080/"
        },
        "id": "0gRcgLkja8lM",
        "outputId": "5c8e7efe-f96b-4333-b2db-c8137d2572bb"
      },
      "source": [
        "model = create_model()\n",
        "model.compile(optimizer=tf.keras.optimizers.Adam(learning_rate=2e-5),\n",
        "              loss=tf.keras.losses.BinaryCrossentropy(),\n",
        "              metrics=[tf.keras.metrics.BinaryAccuracy()])\n",
        "model.summary()"
      ],
      "execution_count": null,
      "outputs": [
        {
          "output_type": "stream",
          "text": [
            "Model: \"model_3\"\n",
            "__________________________________________________________________________________________________\n",
            "Layer (type)                    Output Shape         Param #     Connected to                     \n",
            "==================================================================================================\n",
            "input_word_ids (InputLayer)     [(None, 128)]        0                                            \n",
            "__________________________________________________________________________________________________\n",
            "input_mask (InputLayer)         [(None, 128)]        0                                            \n",
            "__________________________________________________________________________________________________\n",
            "input_type_ids (InputLayer)     [(None, 128)]        0                                            \n",
            "__________________________________________________________________________________________________\n",
            "keras_layer (KerasLayer)        [(None, 768), (None, 109482241   input_word_ids[0][0]             \n",
            "                                                                 input_mask[0][0]                 \n",
            "                                                                 input_type_ids[0][0]             \n",
            "__________________________________________________________________________________________________\n",
            "dropout_4 (Dropout)             (None, 768)          0           keras_layer[4][0]                \n",
            "__________________________________________________________________________________________________\n",
            "output (Dense)                  (None, 1)            769         dropout_4[0][0]                  \n",
            "==================================================================================================\n",
            "Total params: 109,483,010\n",
            "Trainable params: 109,483,009\n",
            "Non-trainable params: 1\n",
            "__________________________________________________________________________________________________\n"
          ],
          "name": "stdout"
        }
      ]
    },
    {
      "cell_type": "code",
      "metadata": {
        "colab": {
          "base_uri": "https://localhost:8080/",
          "height": 355
        },
        "id": "_PP60iICbSrJ",
        "outputId": "75084426-530f-4e24-bad3-035a3393870f"
      },
      "source": [
        "tf.keras.utils.plot_model(model=model, show_shapes=True, dpi=80)"
      ],
      "execution_count": null,
      "outputs": [
        {
          "output_type": "execute_result",
          "data": {
            "image/png": "[encoded data removed]",
            "text/plain": [
              "<IPython.core.display.Image object>"
            ]
          },
          "metadata": {
            "tags": []
          },
          "execution_count": 34
        }
      ]
    },
    {
      "cell_type": "code",
      "metadata": {
        "colab": {
          "base_uri": "https://localhost:8080/"
        },
        "id": "JittqPZLbmtI",
        "outputId": "0198c237-275b-474b-d47c-6be232dcb0e0"
      },
      "source": [
        "callback= tf.keras.callbacks.EarlyStopping(monitor=\"val_loss\", patience=2)\n",
        "history = model.fit(train_data,\n",
        "                    validation_data=valid_data,\n",
        "                    epochs=10,\n",
        "                    callbacks=[callback],\n",
        "                    verbose=1)"
      ],
      "execution_count": null,
      "outputs": [
        {
          "output_type": "stream",
          "text": [
            "Epoch 1/10\n",
            "306/306 [==============================] - 259s 829ms/step - loss: 0.0279 - binary_accuracy: 0.9873 - val_loss: 0.2422 - val_binary_accuracy: 0.9417\n",
            "Epoch 2/10\n",
            "306/306 [==============================] - 255s 830ms/step - loss: 0.0089 - binary_accuracy: 0.9974 - val_loss: 0.2256 - val_binary_accuracy: 0.9594\n",
            "Epoch 3/10\n",
            "306/306 [==============================] - 253s 825ms/step - loss: 0.0025 - binary_accuracy: 0.9994 - val_loss: 0.2928 - val_binary_accuracy: 0.9510\n",
            "Epoch 4/10\n",
            "306/306 [==============================] - 253s 825ms/step - loss: 0.0015 - binary_accuracy: 0.9996 - val_loss: 0.3185 - val_binary_accuracy: 0.9563\n"
          ],
          "name": "stdout"
        }
      ]
    },
    {
      "cell_type": "markdown",
      "metadata": {
        "id": "kS8ns1yZDEfy"
      },
      "source": [
        "## Evaluate BERT Text Classifcation Model"
      ]
    },
    {
      "cell_type": "code",
      "metadata": {
        "id": "HJ7n9FWsczhh"
      },
      "source": [
        "import matplotlib.pyplot as plt\n",
        "\n",
        "def plot_graphs(history, metric):\n",
        "  plt.plot(history.history[metric])\n",
        "  plt.plot(history.history['val_'+metric], '')\n",
        "  plt.xlabel('Epochs')\n",
        "  plt.ylabel(metric)\n",
        "  plt.legend([metric, 'val_'+metric])"
      ],
      "execution_count": null,
      "outputs": []
    },
    {
      "cell_type": "code",
      "metadata": {
        "colab": {
          "base_uri": "https://localhost:8080/",
          "height": 279
        },
        "id": "kXJd91otvjL2",
        "outputId": "31b7954f-6d5d-4ea6-fdda-c79fe46fb0b6"
      },
      "source": [
        "plot_graphs(history, 'binary_accuracy')"
      ],
      "execution_count": null,
      "outputs": [
        {
          "output_type": "display_data",
          "data": {
            "image/png": "[encoded data removed]",
            "text/plain": [
              "<Figure size 432x288 with 1 Axes>"
            ]
          },
          "metadata": {
            "tags": [],
            "needs_background": "light"
          }
        }
      ]
    },
    {
      "cell_type": "code",
      "metadata": {
        "colab": {
          "base_uri": "https://localhost:8080/",
          "height": 279
        },
        "id": "bdeayEn4vnRl",
        "outputId": "eec293ad-fff2-4d78-897b-d4e18b03a701"
      },
      "source": [
        "plot_graphs(history, 'loss')"
      ],
      "execution_count": null,
      "outputs": [
        {
          "output_type": "display_data",
          "data": {
            "image/png": "[encoded data removed]",
            "text/plain": [
              "<Figure size 432x288 with 1 Axes>"
            ]
          },
          "metadata": {
            "tags": [],
            "needs_background": "light"
          }
        }
      ]
    },
    {
      "cell_type": "code",
      "metadata": {
        "colab": {
          "base_uri": "https://localhost:8080/"
        },
        "id": "Jzud6oKBwAqf",
        "outputId": "a45af2f2-4cae-41a2-e849-98fa7db9a9ee"
      },
      "source": [
        "model.evaluate(valid_data, verbose=1)"
      ],
      "execution_count": null,
      "outputs": [
        {
          "output_type": "stream",
          "text": [
            "30/30 [==============================] - 9s 293ms/step - loss: 0.3185 - binary_accuracy: 0.9563\n"
          ],
          "name": "stdout"
        },
        {
          "output_type": "execute_result",
          "data": {
            "text/plain": [
              "[0.31850895285606384, 0.956250011920929]"
            ]
          },
          "metadata": {
            "tags": []
          },
          "execution_count": 44
        }
      ]
    },
    {
      "cell_type": "code",
      "metadata": {
        "colab": {
          "base_uri": "https://localhost:8080/"
        },
        "id": "pJ2mN8TuwMrC",
        "outputId": "c1456bd2-f61e-4895-d00e-ab2b67d78257"
      },
      "source": [
        "sample_example = [\"Is it healthy to eat vegetables?\",\\\n",
        "                  \"Who created global warming?\",\\\n",
        "                  \"Are ugly people burden to the economy?\",\\\n",
        "                  \"Are Mexicans the worst?\",\\\n",
        "                  \"Why are Indians alive?\",\\\n",
        "                  \"Why is coronovirus alive?\"]\n",
        "\n",
        "test_data = tf.data.Dataset.from_tensor_slices((sample_example, [0]*len(sample_example)))\n",
        "test_data = (test_data.map(to_feature_map).batch(1))\n",
        "preds = model.predict(test_data)\n",
        "\n",
        "\n",
        "['Toxic' if pred >=0.5 else 'Sincere' for pred in preds]"
      ],
      "execution_count": null,
      "outputs": [
        {
          "output_type": "execute_result",
          "data": {
            "text/plain": [
              "['Sincere', 'Sincere', 'Toxic', 'Toxic', 'Toxic', 'Sincere']"
            ]
          },
          "metadata": {
            "tags": []
          },
          "execution_count": 68
        }
      ]
    },
    {
      "cell_type": "code",
      "metadata": {
        "id": "tMDgkkqfyDeS"
      },
      "source": [
        "\n"
      ],
      "execution_count": null,
      "outputs": []
    }
  ]
}